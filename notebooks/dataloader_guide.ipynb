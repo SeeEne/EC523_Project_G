{
 "cells": [
  {
   "cell_type": "code",
   "execution_count": 1,
   "metadata": {},
   "outputs": [
    {
     "name": "stdout",
     "output_type": "stream",
     "text": [
      "/Users/ender_yang/Desktop/BU/0.25Spring/CS523/Final_Project/EC523_Project_G\n"
     ]
    },
    {
     "data": {
      "text/plain": [
       "'/Users/ender_yang/Desktop/BU/0.25Spring/CS523/Final_Project/EC523_Project_G'"
      ]
     },
     "execution_count": 1,
     "metadata": {},
     "output_type": "execute_result"
    }
   ],
   "source": [
    "# change the directory to EC523_Project_G\n",
    "%cd ..\n",
    "%pwd"
   ]
  },
  {
   "cell_type": "code",
   "execution_count": 2,
   "metadata": {},
   "outputs": [],
   "source": [
    "from src import data"
   ]
  },
  {
   "cell_type": "code",
   "execution_count": null,
   "metadata": {},
   "outputs": [],
   "source": [
    "PHASE3_SCENE_DESCRIPTION_FILE = \"./DATASET/PROCESSING_RECORD_PHASE3_SCENE_DESCRIPTION.json\"\n",
    "dataset_path = \"./\" # adjust the path to the dataset\n",
    "data_loader = data.get_dataloader(PHASE3_SCENE_DESCRIPTION_FILE, dataset_path=dataset_path, MAX_NUM_FIGURE=5, batch_size=4, shuffle=False)\n",
    "data.display_data(data_loader, num_of_batch=1)"
   ]
  }
 ],
 "metadata": {
  "kernelspec": {
   "display_name": "base",
   "language": "python",
   "name": "python3"
  },
  "language_info": {
   "codemirror_mode": {
    "name": "ipython",
    "version": 3
   },
   "file_extension": ".py",
   "mimetype": "text/x-python",
   "name": "python",
   "nbconvert_exporter": "python",
   "pygments_lexer": "ipython3",
   "version": "3.9.7"
  }
 },
 "nbformat": 4,
 "nbformat_minor": 2
}
